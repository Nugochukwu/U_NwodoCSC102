{
 "cells": [
  {
   "cell_type": "code",
   "execution_count": 1,
   "id": "67efb970",
   "metadata": {},
   "outputs": [
    {
     "name": "stdout",
     "output_type": "stream",
     "text": [
      "Ugochukwu is a fool\n"
     ]
    }
   ],
   "source": [
    "print('Ugochukwu is a fool')\n"
   ]
  },
  {
   "cell_type": "code",
   "execution_count": 15,
   "id": "6291a0bb",
   "metadata": {},
   "outputs": [
    {
     "name": "stdout",
     "output_type": "stream",
     "text": [
      "What is your name: Micheal\n",
      "What was your jamb score: 240\n",
      "How many credits in your core subjects: 5\n",
      "What course are you studying a-Computer science b-Mass Comunicationa\n",
      "Micheal 240 5 Computer Science\n"
     ]
    }
   ],
   "source": [
    "import pandas as pd\n",
    "\n",
    "def admitted(a,b,c,d):\n",
    "    records = {'name':[a]},{'JambScore': [b]},{\"Credits\":[c]},{'Department': [d]}\n",
    "    df = pd.DataFrame(records)\n",
    "    df.to_csv('admitted.csv')\n",
    "\n",
    "\n",
    "    print(a,b,c,d)\n",
    "def unadmitted(a,b,c,d):\n",
    "    print(a,b,c,d)\n",
    "name = input(\"What is your name: \")\n",
    "jscore = int(input(\"What was your jamb score: \"))\n",
    "ncredits = int(input(\"How many credits in your core subjects: \"))\n",
    "cdept = input(\"What course are you studying a-Computer science b-Mass Comunication\")\n",
    "if cdept == \"a\":\n",
    "    dept = \"Computer Science\"\n",
    "    if jscore >= 230:\n",
    "        if ncredits >= 5:\n",
    "            admitted(name,jscore,ncredits,dept)\n",
    "        elif ncredits <5:\n",
    "            unadmitted(name,jscore,ncredits,dept)\n",
    "    elif jscore < 230:\n",
    "        unadmitted(name,jscore,ncredits,dept)\n",
    "elif cdept== \"b\":\n",
    "    if jscore >= 220:\n",
    "        if ncredits >= 5:\n",
    "            admitted(name,jscore,ncredits,cdept)\n",
    "        elif ncredits <5:\n",
    "            unadmitted(name,jscore,ncredits,cdept)\n",
    "    elif jscore < 220:\n",
    "        unadmitted(name,jscore,ncredits,cdept)\n",
    "else:\n",
    "    print(\"Invalid input\")"
   ]
  },
  {
   "cell_type": "code",
   "execution_count": null,
   "id": "d9666163",
   "metadata": {},
   "outputs": [],
   "source": []
  },
  {
   "cell_type": "code",
   "execution_count": null,
   "id": "79647b49",
   "metadata": {},
   "outputs": [],
   "source": []
  }
 ],
 "metadata": {
  "kernelspec": {
   "display_name": "Python 3 (ipykernel)",
   "language": "python",
   "name": "python3"
  },
  "language_info": {
   "codemirror_mode": {
    "name": "ipython",
    "version": 3
   },
   "file_extension": ".py",
   "mimetype": "text/x-python",
   "name": "python",
   "nbconvert_exporter": "python",
   "pygments_lexer": "ipython3",
   "version": "3.10.9"
  }
 },
 "nbformat": 4,
 "nbformat_minor": 5
}
