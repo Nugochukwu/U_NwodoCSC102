{
 "cells": [
  {
   "cell_type": "code",
   "execution_count": 9,
   "id": "3b53ae76",
   "metadata": {},
   "outputs": [
    {
     "name": "stdout",
     "output_type": "stream",
     "text": [
      "What is your location a-IbejuLekki b-Epea\n",
      "What is the weight: 13\n",
      "Amount to be paid is N2000\n"
     ]
    }
   ],
   "source": [
    "\n",
    "location = input(\"What is your location a-IbejuLekki b-Epe\")\n",
    "weight = int(input(\"What is the weight: \"))\n",
    "if location == \"a\":\n",
    "   \n",
    "    if weight >= 10:\n",
    "        print(\"Amount to be paid is N2000\")\n",
    "    elif weight < 10:\n",
    "        print(\"Amount to be paid is N1500\")\n",
    "    else: \n",
    "        print(\"Invalid input\")\n",
    "elif location == \"b\":\n",
    "    \n",
    "    if weight >= 10:\n",
    "        print(\"Amount to be paid is N5000\")\n",
    "    elif weight < 10:\n",
    "        print(\"Amount to be paid is N4000\")\n",
    "    else:\n",
    "        print(\"Invalid input\")\n",
    "else:\n",
    "    print(\"Invalid input\")\n",
    "    \n",
    "    "
   ]
  },
  {
   "cell_type": "code",
   "execution_count": null,
   "id": "b62af14d",
   "metadata": {},
   "outputs": [],
   "source": []
  }
 ],
 "metadata": {
  "kernelspec": {
   "display_name": "Python 3 (ipykernel)",
   "language": "python",
   "name": "python3"
  },
  "language_info": {
   "codemirror_mode": {
    "name": "ipython",
    "version": 3
   },
   "file_extension": ".py",
   "mimetype": "text/x-python",
   "name": "python",
   "nbconvert_exporter": "python",
   "pygments_lexer": "ipython3",
   "version": "3.10.9"
  }
 },
 "nbformat": 4,
 "nbformat_minor": 5
}
