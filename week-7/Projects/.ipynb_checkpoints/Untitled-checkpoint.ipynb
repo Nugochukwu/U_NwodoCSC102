{
 "cells": [
  {
   "cell_type": "code",
   "execution_count": 6,
   "id": "3bb867b4",
   "metadata": {},
   "outputs": [
    {
     "name": "stdout",
     "output_type": "stream",
     "text": [
      "What is your namea\n",
      "What is your deptjh\n",
      "Welcome a of jh\n"
     ]
    }
   ],
   "source": [
    "name = input(\"What is your name\")\n",
    "dept = input(\"What is your dept\")\n",
    "list = (\"a\",\"b\",\"c\",\"d\",\"e\")\n",
    "for i in list:\n",
    "    if name == i:\n",
    "        print(f\"Welcome {name} of {dept}\")\n",
    "      "
   ]
  },
  {
   "cell_type": "code",
   "execution_count": null,
   "id": "b810602b",
   "metadata": {},
   "outputs": [],
   "source": []
  },
  {
   "cell_type": "code",
   "execution_count": null,
   "id": "9a6717f3",
   "metadata": {},
   "outputs": [],
   "source": []
  }
 ],
 "metadata": {
  "kernelspec": {
   "display_name": "Python 3 (ipykernel)",
   "language": "python",
   "name": "python3"
  },
  "language_info": {
   "codemirror_mode": {
    "name": "ipython",
    "version": 3
   },
   "file_extension": ".py",
   "mimetype": "text/x-python",
   "name": "python",
   "nbconvert_exporter": "python",
   "pygments_lexer": "ipython3",
   "version": "3.10.9"
  }
 },
 "nbformat": 4,
 "nbformat_minor": 5
}
