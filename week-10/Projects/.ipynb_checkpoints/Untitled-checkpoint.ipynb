{
 "cells": [
  {
   "cell_type": "code",
   "execution_count": 2,
   "id": "a1afbd8d",
   "metadata": {},
   "outputs": [
    {
     "name": "stdout",
     "output_type": "stream",
     "text": [
      "how many45\n",
      "Total cost =  1350\n"
     ]
    }
   ],
   "source": [
    "class shop():\n",
    "    stock = 50\n",
    "    cost = 30\n",
    "    def store(self):\n",
    "        num = int(input(\"how many\")) \n",
    "        if num < self.stock:\n",
    "            print(\"Total cost = \",num*self.cost)\n",
    "        else:\n",
    "            print(\"pick a smaller quantity\")\n",
    "    \n",
    "\n",
    "choice = shop()  \n",
    "choice.store()\n",
    "\n",
    "  "
   ]
  },
  {
   "cell_type": "code",
   "execution_count": 2,
   "id": "9fdfc88c",
   "metadata": {},
   "outputs": [
    {
     "name": "stdout",
     "output_type": "stream",
     "text": [
      "What is your choice:1-Area of trapezium 2-Area of rhombus 3-Area of parallelogram 4-Area of cube 5-Volume of cylinder2\n",
      "What is 1st diagonal3\n",
      "What is 2nd diagonal4\n",
      "6.0\n"
     ]
    }
   ],
   "source": [
    "class Calculations:\n",
    "    def __init__(self,Area):\n",
    "        self.Area = Area\n",
    "    def trapezium(self):\n",
    "        print(self.Area)\n",
    "    def rhombus(self):\n",
    "        print(self.Area)\n",
    "    def parallelogram(self):\n",
    "        print(self.Area)\n",
    "    def cube(self):\n",
    "        print(self.Area)\n",
    "    def cylinder(self):\n",
    "        print(self.Area)\n",
    "def fun1(b1,b2,h):\n",
    "    Area = Calculations(h/2*(b1+b2))\n",
    "    Area.trapezium()\n",
    "def fun2(di1,di2):\n",
    "    Area = Calculations(1/2*(di1*di2))\n",
    "    Area.rhombus()\n",
    "def fun3(b,a):\n",
    "    Area = Calculations(b*a)\n",
    "    Area.parallelogram()\n",
    "def fun4(l):\n",
    "    Area = Calculations(6*(l)*2)\n",
    "    Area.cube()\n",
    "def fun5(r,h):\n",
    "    Area = Calculations(22/7*(r)*2*h)\n",
    "    Area.cylinder()\n",
    "choice = int(input(\"What is your choice:1-Area of trapezium 2-Area of rhombus 3-Area of parallelogram 4-Area of cube 5-Volume of cylinder\"))\n",
    "if choice == 1:\n",
    "    basea = int(input(\"What is the 1st base: \"))\n",
    "    baseb = int(input(\"What is 2nd base: \"))\n",
    "    height = int(input(\"What is height: \"))\n",
    "    fun1(basea,baseb,height)\n",
    "elif choice == 2:\n",
    "    diagonal1 = int(input(\"What is 1st diagonal\"))\n",
    "    diagonal2 = int(input(\"What is 2nd diagonal\"))\n",
    "    fun2(diagonal1,diagonal2)\n",
    "elif choice == 3:\n",
    "    base = int(input(\"What is base: \"))\n",
    "    height = int(input(\"What is height: \"))\n",
    "    fun3(base,height)\n",
    "elif choice == 4:\n",
    "    length = int(input(\"What is the length: \"))\n",
    "    fun4(length)\n",
    "elif choice == 5:\n",
    "    radius = int(input(\"What is the radius: \"))\n",
    "    height = int(input(\"What is the height: \"))\n",
    "    fun5(radius,height)    \n",
    "else:\n",
    "    print(\"Invalid input\")\n"
   ]
  },
  {
   "cell_type": "markdown",
   "id": "2efa34a9",
   "metadata": {},
   "source": []
  }
 ],
 "metadata": {
  "kernelspec": {
   "display_name": "Python 3 (ipykernel)",
   "language": "python",
   "name": "python3"
  },
  "language_info": {
   "codemirror_mode": {
    "name": "ipython",
    "version": 3
   },
   "file_extension": ".py",
   "mimetype": "text/x-python",
   "name": "python",
   "nbconvert_exporter": "python",
   "pygments_lexer": "ipython3",
   "version": "3.10.9"
  }
 },
 "nbformat": 4,
 "nbformat_minor": 5
}
