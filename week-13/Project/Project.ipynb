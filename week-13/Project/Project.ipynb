{
 "cells": [
  {
   "cell_type": "markdown",
   "id": "8a5f5e1e",
   "metadata": {},
   "source": [
    "Question 1"
   ]
  },
  {
   "cell_type": "code",
   "execution_count": 4,
   "id": "cf166851",
   "metadata": {},
   "outputs": [
    {
     "name": "stdout",
     "output_type": "stream",
     "text": [
      "What is your name: Nwodo Ugochukwu\n",
      "What is your matric number: 22120613020\n",
      "What is your Department: Computer Science\n",
      "What level are you in: 100\n",
      "Data Saved\n"
     ]
    },
    {
     "data": {
      "text/html": [
       "<div>\n",
       "<style scoped>\n",
       "    .dataframe tbody tr th:only-of-type {\n",
       "        vertical-align: middle;\n",
       "    }\n",
       "\n",
       "    .dataframe tbody tr th {\n",
       "        vertical-align: top;\n",
       "    }\n",
       "\n",
       "    .dataframe thead th {\n",
       "        text-align: right;\n",
       "    }\n",
       "</style>\n",
       "<table border=\"1\" class=\"dataframe\">\n",
       "  <thead>\n",
       "    <tr style=\"text-align: right;\">\n",
       "      <th></th>\n",
       "      <th>Unnamed: 0</th>\n",
       "      <th>Student_Name</th>\n",
       "      <th>Matric._Number</th>\n",
       "      <th>Department</th>\n",
       "      <th>Level</th>\n",
       "    </tr>\n",
       "  </thead>\n",
       "  <tbody>\n",
       "    <tr>\n",
       "      <th>0</th>\n",
       "      <td>0</td>\n",
       "      <td>Nwodo Ugochukwu</td>\n",
       "      <td>22120613020</td>\n",
       "      <td>Computer Science</td>\n",
       "      <td>100</td>\n",
       "    </tr>\n",
       "  </tbody>\n",
       "</table>\n",
       "</div>"
      ],
      "text/plain": [
       "   Unnamed: 0     Student_Name  Matric._Number        Department  Level\n",
       "0           0  Nwodo Ugochukwu     22120613020  Computer Science    100"
      ]
     },
     "execution_count": 4,
     "metadata": {},
     "output_type": "execute_result"
    }
   ],
   "source": [
    "import pandas as pd\n",
    "name = input(\"What is your name: \")\n",
    "mat = str(input(\"What is your matric number: \"))\n",
    "dep = input (\"What is your Department: \")\n",
    "lev = int(input(\"What level are you in: \"))\n",
    "\n",
    "Dict = {\"Student_Name\":[name],\"Matric._Number\":[mat],\"Department\":[dep],\"Level\":[lev]}\n",
    "dt = pd.DataFrame(Dict)\n",
    "dt.to_csv(\"PAU_SIMS.csv\")\n",
    "print(\"Data Saved\")\n",
    "data = pd.read_csv(\"PAU_SIMS.csv\")\n",
    "data"
   ]
  },
  {
   "cell_type": "markdown",
   "id": "e668368b",
   "metadata": {},
   "source": [
    "Question 2"
   ]
  },
  {
   "cell_type": "code",
   "execution_count": 3,
   "id": "5c4893fa",
   "metadata": {},
   "outputs": [
    {
     "name": "stdout",
     "output_type": "stream",
     "text": [
      "Data Saved\n"
     ]
    }
   ],
   "source": [
    "import pandas as pd\n",
    "\n",
    "Dict = {\"Company\":[\"Enron\",\"Anderson\",\"GK jones\",\"Mica\",\"Dune\"],\n",
    "        \"Company's_shares\":[1000000,1500000,3000000,250000,800000],\n",
    "        \"Company's_liability\":[200000,500000,1500000,50000,300000],\n",
    "        \"Percentage_leverages\":[((1000000-200000)/1000000)*100,((1500000-500000)/1500000)*100,((3000000-1500000)/3000000)*100,((250000-50000)/250000)*100,((800000-300000)/800000)*100]}\n",
    "dt = pd.DataFrame(Dict)\n",
    "dt.to_csv(\"Company.csv\")\n",
    "print(\"Data Saved\")\n"
   ]
  },
  {
   "cell_type": "code",
   "execution_count": null,
   "id": "41b279de",
   "metadata": {},
   "outputs": [],
   "source": []
  }
 ],
 "metadata": {
  "kernelspec": {
   "display_name": "Python 3 (ipykernel)",
   "language": "python",
   "name": "python3"
  },
  "language_info": {
   "codemirror_mode": {
    "name": "ipython",
    "version": 3
   },
   "file_extension": ".py",
   "mimetype": "text/x-python",
   "name": "python",
   "nbconvert_exporter": "python",
   "pygments_lexer": "ipython3",
   "version": "3.10.9"
  }
 },
 "nbformat": 4,
 "nbformat_minor": 5
}
