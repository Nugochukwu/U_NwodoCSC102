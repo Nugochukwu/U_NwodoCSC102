{
 "cells": [
  {
   "cell_type": "raw",
   "id": "9d3f5f0a",
   "metadata": {
    "scrolled": true
   },
   "source": [
    "import pandas as pd\n",
    " \n",
    "# Define a dictionary containing employee data\n",
    "data = pd.read_csv(\"sis.csv\")\n",
    "name = (\"Aina Adeleke\",\"Sola Egbune\")\n",
    "nam = input(\"What is your name: \")\n",
    "age = int(input(\"How old are you: \"))\n",
    "records = {\"Name\":[nam],\"Age\":[age]}\n",
    "\n",
    "for i in name:\n",
    "    if i == nam:\n",
    "        df = pd.DataFrame(records)\n",
    "        records[\"Name\"].append(nam)\n",
    "        records[\"Age\"].append(age)\n",
    "        df.to_csv(\"record.csv\")\n",
    "    "
   ]
  },
  {
   "cell_type": "code",
   "execution_count": null,
   "id": "3c630596",
   "metadata": {},
   "outputs": [],
   "source": []
  }
 ],
 "metadata": {
  "kernelspec": {
   "display_name": "Python 3 (ipykernel)",
   "language": "python",
   "name": "python3"
  },
  "language_info": {
   "codemirror_mode": {
    "name": "ipython",
    "version": 3
   },
   "file_extension": ".py",
   "mimetype": "text/x-python",
   "name": "python",
   "nbconvert_exporter": "python",
   "pygments_lexer": "ipython3",
   "version": "3.10.9"
  }
 },
 "nbformat": 4,
 "nbformat_minor": 5
}
