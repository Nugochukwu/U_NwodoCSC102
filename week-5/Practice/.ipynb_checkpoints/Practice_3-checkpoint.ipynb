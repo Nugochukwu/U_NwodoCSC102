{
 "cells": [
  {
   "cell_type": "code",
   "execution_count": 1,
   "id": "919b17f9",
   "metadata": {},
   "outputs": [
    {
     "name": "stdout",
     "output_type": "stream",
     "text": [
      "Welcome to the COUPE DE ESCRIVA 2023: FOOTBALL PICKS \n",
      "\n",
      "Madiba Chubby Obiora_Okafo\n",
      "\n",
      "\n",
      "Madiba: Chubby Obiora_Okafo\n",
      "Blue-Jays: Oladimeji Abaniwondea/Jeffery Awagu\n",
      "Cirok: Timileyin Pearse/Izuako Jeremy\n",
      "TSG Walkers: AAyomide Ojituku\n",
      "Blue-Jays: Christopher Uweh\n",
      "\n",
      "\n",
      "Madiba: Chubby Obiora_Okafo\n",
      "Blue-Jays: Oladimeji Abaniwondea/Jeffery Awagu\n",
      "Cirok: Timileyin Pearse/Izuako Jeremy\n",
      "TSG Walkers: AAyomide Ojituku\n",
      "Cirok: Alexander\n",
      "\n",
      "\n",
      "Madiba: Chubby Obiora_Okafo\n",
      "Blue-Jays: Oladimeji Abaniwondea/Jeffery Awagu\n",
      "Cirok: Timileyin Pearse/Izuako Jeremy\n",
      "TSG Walkers: AAyomide Ojituku\n",
      "TSG Walkers: Ikechukwu\n",
      "\n",
      "\n",
      "Madiba: Chubby Obiora_Okafo\n",
      "Blue-Jays: Oladimeji Abaniwondea/Jeffery Awagu\n",
      "Cirok: Timileyin Pearse/Izuako Jeremy\n",
      "TSG Walkers: AAyomide Ojituku\n"
     ]
    }
   ],
   "source": [
    "print(\"Welcome to the COUPE DE ESCRIVA 2023: FOOTBALL PICKS \\n\")\n",
    "\n",
    "captain = {\"Madiba\":\"Chubby Obiora_Okafo\",\"Blue-Jays:\":\"Christopher Uweh\",\"Cirok:\":\"Alexander\",\"TSG Walkers:\":\"Ikechukwu\"}\n",
    "goalkeepers = {\"Madiba:\":\"Chubby Obiora_Okafo\",\n",
    "              \"Blue-Jays:\":\"Oladimeji Abaniwondea/Jeffery Awagu\",\"Cirok:\":\"Timileyin Pearse/Izuako Jeremy\",\"TSG Walkers:\":\"AAyomide Ojituku\"}\n",
    "for pick in captain:\n",
    "    print(pick, captain[pick])\n",
    "    \n",
    "    print(\"\\n\")\n",
    "    \n",
    "    for pick in goalkeepers:\n",
    "        print(pick,goalkeepers[pick])"
   ]
  },
  {
   "cell_type": "code",
   "execution_count": null,
   "id": "19f24b72",
   "metadata": {},
   "outputs": [],
   "source": []
  }
 ],
 "metadata": {
  "kernelspec": {
   "display_name": "Python 3 (ipykernel)",
   "language": "python",
   "name": "python3"
  },
  "language_info": {
   "codemirror_mode": {
    "name": "ipython",
    "version": 3
   },
   "file_extension": ".py",
   "mimetype": "text/x-python",
   "name": "python",
   "nbconvert_exporter": "python",
   "pygments_lexer": "ipython3",
   "version": "3.10.9"
  }
 },
 "nbformat": 4,
 "nbformat_minor": 5
}
